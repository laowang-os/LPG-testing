{
 "cells": [
  {
   "cell_type": "markdown",
   "id": "831bda0e",
   "metadata": {},
   "source": [
    "_**Import PKGs**_"
   ]
  },
  {
   "cell_type": "code",
   "execution_count": null,
   "id": "2b275ffb",
   "metadata": {},
   "outputs": [],
   "source": [
    "import gmso\n",
    "import mbuild as mb\n",
    "from gmso.external import from_mbuild\n",
    "from gmso.parameterization import apply\n",
    "from gmso.core.forcefield import ForceField\n"
   ]
  },
  {
   "cell_type": "markdown",
   "id": "c7ae1d6f",
   "metadata": {},
   "source": [
    "_**Creat a molecule and apply the ff to it**_"
   ]
  },
  {
   "cell_type": "code",
   "execution_count": null,
   "id": "fc15de78",
   "metadata": {},
   "outputs": [],
   "source": [
    "LPG_oplsaa = ForceField(\"exact_oplsaa.xml\")\n",
    "comp = mb.load('[H]c1[nH]c([H])c2c1CCC2', smiles=True)\n",
    "LPG_topology = from_mbuild(comp) \n",
    "apply(top=LPG_topology, forcefields=LPG_oplsaa, identify_connections=True) "
   ]
  },
  {
   "cell_type": "markdown",
   "id": "57a830d4",
   "metadata": {},
   "source": [
    "_**Check the atom order**_"
   ]
  },
  {
   "cell_type": "code",
   "execution_count": null,
   "id": "df0078b5",
   "metadata": {},
   "outputs": [],
   "source": [
    "comp_rdkmol=comp.to_rdkit()\n",
    "img=Draw.MolToImage(comp_rdkmol)\n",
    "display(img)"
   ]
  },
  {
   "cell_type": "markdown",
   "id": "931d7850",
   "metadata": {},
   "source": [
    "_**Check the missing info**_"
   ]
  },
  {
   "cell_type": "code",
   "execution_count": null,
   "id": "fe332c0a",
   "metadata": {},
   "outputs": [],
   "source": [
    "#ignore the missing types\n",
    "LPG_oplsaa = ForceField(\"exact_oplsaa.xml\")\n",
    "LPG_topology = from_mbuild(comp)\n",
    "apply(top=LPG_topology, forcefields=LPG_oplsaa, identify_connections=True, ignore_params=[ \"atoms\", \"angles\", \"dihedrals\", \"impropers\"], remove_untyped=False)"
   ]
  },
  {
   "cell_type": "code",
   "execution_count": null,
   "id": "393b83b7",
   "metadata": {},
   "outputs": [],
   "source": [
    "#check angle/dihedral/improper types, can change the dihedral in following codes to angle/improper\n",
    "for dihedral in LPG_topology.dihedrals:\n",
    "    print(dihedral.dihedral_type)"
   ]
  },
  {
   "cell_type": "code",
   "execution_count": null,
   "id": "8aa80c9d",
   "metadata": {},
   "outputs": [],
   "source": [
    "for dihedral in LPG_topology.dihedrals:\n",
    "    if dihedral.dihedral_type is None:\n",
    "        atom_types = [a.atom_type.name for a in dihedral.connection_members]\n",
    "        atom_classes = [a.atom_type.atomclass for a in dihedral.connection_members]\n",
    "        print(atom_types)\n",
    "        print(atom_classes)\n",
    "        print()"
   ]
  }
 ],
 "metadata": {
  "kernelspec": {
   "display_name": "mbuild_env",
   "language": "python",
   "name": "python3"
  },
  "language_info": {
   "codemirror_mode": {
    "name": "ipython",
    "version": 3
   },
   "file_extension": ".py",
   "mimetype": "text/x-python",
   "name": "python",
   "nbconvert_exporter": "python",
   "pygments_lexer": "ipython3",
   "version": "3.12.0"
  }
 },
 "nbformat": 4,
 "nbformat_minor": 5
}
